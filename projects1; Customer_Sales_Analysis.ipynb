{
 "cells": [
  {
   "cell_type": "markdown",
   "metadata": {},
   "source": [
    "# Project_01: Customer_Sales_Analysis"
   ]
  },
  {
   "cell_type": "markdown",
   "metadata": {},
   "source": [
    "#### Goal:\n",
    "Analyze sales data to extract valuable business insights, such as:\n",
    "\n",
    "Which products are selling the most?\n",
    "\n",
    "Who are the top customers?\n",
    "\n",
    "Which months generate the highest revenue?\n",
    "\n",
    "#### Skills Covered:\n",
    "\n",
    "SQL (querying & aggregating data)\n",
    "\n",
    " Pandas (data manipulation)\n",
    "\n",
    " Matplotlib & Seaborn (data visualization)\n",
    "\n",
    " Business analysis (understanding trends & insights)\n",
    "\n"
   ]
  },
  {
   "cell_type": "markdown",
   "metadata": {},
   "source": [
    "## step.1 Data Exploration"
   ]
  },
  {
   "cell_type": "markdown",
   "metadata": {},
   "source": [
    "### 1.1 importing important Libraries"
   ]
  },
  {
   "cell_type": "code",
   "execution_count": 1,
   "metadata": {},
   "outputs": [],
   "source": [
    "import pandas as pd\n",
    "import numpy as np\n",
    "import matplotlib.pyplot as plt\n",
    "import seaborn as sns"
   ]
  },
  {
   "cell_type": "markdown",
   "metadata": {},
   "source": [
    "#### 1.2 Loading & Viewing the dataset \n"
   ]
  },
  {
   "cell_type": "code",
   "execution_count": 2,
   "metadata": {},
   "outputs": [
    {
     "data": {
      "application/vnd.microsoft.datawrangler.viewer.v0+json": {
       "columns": [
        {
         "name": "index",
         "rawType": "int64",
         "type": "integer"
        },
        {
         "name": "Row ID",
         "rawType": "int64",
         "type": "integer"
        },
        {
         "name": "Order ID",
         "rawType": "object",
         "type": "string"
        },
        {
         "name": "Order Date",
         "rawType": "object",
         "type": "string"
        },
        {
         "name": "Ship Date",
         "rawType": "object",
         "type": "string"
        },
        {
         "name": "Ship Mode",
         "rawType": "object",
         "type": "string"
        },
        {
         "name": "Customer ID",
         "rawType": "object",
         "type": "string"
        },
        {
         "name": "Customer Name",
         "rawType": "object",
         "type": "string"
        },
        {
         "name": "Segment",
         "rawType": "object",
         "type": "string"
        },
        {
         "name": "Country",
         "rawType": "object",
         "type": "string"
        },
        {
         "name": "City",
         "rawType": "object",
         "type": "string"
        },
        {
         "name": "State",
         "rawType": "object",
         "type": "string"
        },
        {
         "name": "Postal Code",
         "rawType": "float64",
         "type": "float"
        },
        {
         "name": "Region",
         "rawType": "object",
         "type": "string"
        },
        {
         "name": "Product ID",
         "rawType": "object",
         "type": "string"
        },
        {
         "name": "Category",
         "rawType": "object",
         "type": "string"
        },
        {
         "name": "Sub-Category",
         "rawType": "object",
         "type": "string"
        },
        {
         "name": "Product Name",
         "rawType": "object",
         "type": "string"
        },
        {
         "name": "Sales",
         "rawType": "float64",
         "type": "float"
        }
       ],
       "conversionMethod": "pd.DataFrame",
       "ref": "b02d956d-4f42-431d-bb1d-5b4e6456578b",
       "rows": [
        [
         "0",
         "1",
         "CA-2017-152156",
         "08/11/2017",
         "11/11/2017",
         "Second Class",
         "CG-12520",
         "Claire Gute",
         "Consumer",
         "United States",
         "Henderson",
         "Kentucky",
         "42420.0",
         "South",
         "FUR-BO-10001798",
         "Furniture",
         "Bookcases",
         "Bush Somerset Collection Bookcase",
         "261.96"
        ],
        [
         "1",
         "2",
         "CA-2017-152156",
         "08/11/2017",
         "11/11/2017",
         "Second Class",
         "CG-12520",
         "Claire Gute",
         "Consumer",
         "United States",
         "Henderson",
         "Kentucky",
         "42420.0",
         "South",
         "FUR-CH-10000454",
         "Furniture",
         "Chairs",
         "Hon Deluxe Fabric Upholstered Stacking Chairs, Rounded Back",
         "731.94"
        ],
        [
         "2",
         "3",
         "CA-2017-138688",
         "12/06/2017",
         "16/06/2017",
         "Second Class",
         "DV-13045",
         "Darrin Van Huff",
         "Corporate",
         "United States",
         "Los Angeles",
         "California",
         "90036.0",
         "West",
         "OFF-LA-10000240",
         "Office Supplies",
         "Labels",
         "Self-Adhesive Address Labels for Typewriters by Universal",
         "14.62"
        ],
        [
         "3",
         "4",
         "US-2016-108966",
         "11/10/2016",
         "18/10/2016",
         "Standard Class",
         "SO-20335",
         "Sean O'Donnell",
         "Consumer",
         "United States",
         "Fort Lauderdale",
         "Florida",
         "33311.0",
         "South",
         "FUR-TA-10000577",
         "Furniture",
         "Tables",
         "Bretford CR4500 Series Slim Rectangular Table",
         "957.5775"
        ],
        [
         "4",
         "5",
         "US-2016-108966",
         "11/10/2016",
         "18/10/2016",
         "Standard Class",
         "SO-20335",
         "Sean O'Donnell",
         "Consumer",
         "United States",
         "Fort Lauderdale",
         "Florida",
         "33311.0",
         "South",
         "OFF-ST-10000760",
         "Office Supplies",
         "Storage",
         "Eldon Fold 'N Roll Cart System",
         "22.368"
        ]
       ],
       "shape": {
        "columns": 18,
        "rows": 5
       }
      },
      "text/html": [
       "<div>\n",
       "<style scoped>\n",
       "    .dataframe tbody tr th:only-of-type {\n",
       "        vertical-align: middle;\n",
       "    }\n",
       "\n",
       "    .dataframe tbody tr th {\n",
       "        vertical-align: top;\n",
       "    }\n",
       "\n",
       "    .dataframe thead th {\n",
       "        text-align: right;\n",
       "    }\n",
       "</style>\n",
       "<table border=\"1\" class=\"dataframe\">\n",
       "  <thead>\n",
       "    <tr style=\"text-align: right;\">\n",
       "      <th></th>\n",
       "      <th>Row ID</th>\n",
       "      <th>Order ID</th>\n",
       "      <th>Order Date</th>\n",
       "      <th>Ship Date</th>\n",
       "      <th>Ship Mode</th>\n",
       "      <th>Customer ID</th>\n",
       "      <th>Customer Name</th>\n",
       "      <th>Segment</th>\n",
       "      <th>Country</th>\n",
       "      <th>City</th>\n",
       "      <th>State</th>\n",
       "      <th>Postal Code</th>\n",
       "      <th>Region</th>\n",
       "      <th>Product ID</th>\n",
       "      <th>Category</th>\n",
       "      <th>Sub-Category</th>\n",
       "      <th>Product Name</th>\n",
       "      <th>Sales</th>\n",
       "    </tr>\n",
       "  </thead>\n",
       "  <tbody>\n",
       "    <tr>\n",
       "      <th>0</th>\n",
       "      <td>1</td>\n",
       "      <td>CA-2017-152156</td>\n",
       "      <td>08/11/2017</td>\n",
       "      <td>11/11/2017</td>\n",
       "      <td>Second Class</td>\n",
       "      <td>CG-12520</td>\n",
       "      <td>Claire Gute</td>\n",
       "      <td>Consumer</td>\n",
       "      <td>United States</td>\n",
       "      <td>Henderson</td>\n",
       "      <td>Kentucky</td>\n",
       "      <td>42420.0</td>\n",
       "      <td>South</td>\n",
       "      <td>FUR-BO-10001798</td>\n",
       "      <td>Furniture</td>\n",
       "      <td>Bookcases</td>\n",
       "      <td>Bush Somerset Collection Bookcase</td>\n",
       "      <td>261.9600</td>\n",
       "    </tr>\n",
       "    <tr>\n",
       "      <th>1</th>\n",
       "      <td>2</td>\n",
       "      <td>CA-2017-152156</td>\n",
       "      <td>08/11/2017</td>\n",
       "      <td>11/11/2017</td>\n",
       "      <td>Second Class</td>\n",
       "      <td>CG-12520</td>\n",
       "      <td>Claire Gute</td>\n",
       "      <td>Consumer</td>\n",
       "      <td>United States</td>\n",
       "      <td>Henderson</td>\n",
       "      <td>Kentucky</td>\n",
       "      <td>42420.0</td>\n",
       "      <td>South</td>\n",
       "      <td>FUR-CH-10000454</td>\n",
       "      <td>Furniture</td>\n",
       "      <td>Chairs</td>\n",
       "      <td>Hon Deluxe Fabric Upholstered Stacking Chairs,...</td>\n",
       "      <td>731.9400</td>\n",
       "    </tr>\n",
       "    <tr>\n",
       "      <th>2</th>\n",
       "      <td>3</td>\n",
       "      <td>CA-2017-138688</td>\n",
       "      <td>12/06/2017</td>\n",
       "      <td>16/06/2017</td>\n",
       "      <td>Second Class</td>\n",
       "      <td>DV-13045</td>\n",
       "      <td>Darrin Van Huff</td>\n",
       "      <td>Corporate</td>\n",
       "      <td>United States</td>\n",
       "      <td>Los Angeles</td>\n",
       "      <td>California</td>\n",
       "      <td>90036.0</td>\n",
       "      <td>West</td>\n",
       "      <td>OFF-LA-10000240</td>\n",
       "      <td>Office Supplies</td>\n",
       "      <td>Labels</td>\n",
       "      <td>Self-Adhesive Address Labels for Typewriters b...</td>\n",
       "      <td>14.6200</td>\n",
       "    </tr>\n",
       "    <tr>\n",
       "      <th>3</th>\n",
       "      <td>4</td>\n",
       "      <td>US-2016-108966</td>\n",
       "      <td>11/10/2016</td>\n",
       "      <td>18/10/2016</td>\n",
       "      <td>Standard Class</td>\n",
       "      <td>SO-20335</td>\n",
       "      <td>Sean O'Donnell</td>\n",
       "      <td>Consumer</td>\n",
       "      <td>United States</td>\n",
       "      <td>Fort Lauderdale</td>\n",
       "      <td>Florida</td>\n",
       "      <td>33311.0</td>\n",
       "      <td>South</td>\n",
       "      <td>FUR-TA-10000577</td>\n",
       "      <td>Furniture</td>\n",
       "      <td>Tables</td>\n",
       "      <td>Bretford CR4500 Series Slim Rectangular Table</td>\n",
       "      <td>957.5775</td>\n",
       "    </tr>\n",
       "    <tr>\n",
       "      <th>4</th>\n",
       "      <td>5</td>\n",
       "      <td>US-2016-108966</td>\n",
       "      <td>11/10/2016</td>\n",
       "      <td>18/10/2016</td>\n",
       "      <td>Standard Class</td>\n",
       "      <td>SO-20335</td>\n",
       "      <td>Sean O'Donnell</td>\n",
       "      <td>Consumer</td>\n",
       "      <td>United States</td>\n",
       "      <td>Fort Lauderdale</td>\n",
       "      <td>Florida</td>\n",
       "      <td>33311.0</td>\n",
       "      <td>South</td>\n",
       "      <td>OFF-ST-10000760</td>\n",
       "      <td>Office Supplies</td>\n",
       "      <td>Storage</td>\n",
       "      <td>Eldon Fold 'N Roll Cart System</td>\n",
       "      <td>22.3680</td>\n",
       "    </tr>\n",
       "  </tbody>\n",
       "</table>\n",
       "</div>"
      ],
      "text/plain": [
       "   Row ID        Order ID  Order Date   Ship Date       Ship Mode Customer ID  \\\n",
       "0       1  CA-2017-152156  08/11/2017  11/11/2017    Second Class    CG-12520   \n",
       "1       2  CA-2017-152156  08/11/2017  11/11/2017    Second Class    CG-12520   \n",
       "2       3  CA-2017-138688  12/06/2017  16/06/2017    Second Class    DV-13045   \n",
       "3       4  US-2016-108966  11/10/2016  18/10/2016  Standard Class    SO-20335   \n",
       "4       5  US-2016-108966  11/10/2016  18/10/2016  Standard Class    SO-20335   \n",
       "\n",
       "     Customer Name    Segment        Country             City       State  \\\n",
       "0      Claire Gute   Consumer  United States        Henderson    Kentucky   \n",
       "1      Claire Gute   Consumer  United States        Henderson    Kentucky   \n",
       "2  Darrin Van Huff  Corporate  United States      Los Angeles  California   \n",
       "3   Sean O'Donnell   Consumer  United States  Fort Lauderdale     Florida   \n",
       "4   Sean O'Donnell   Consumer  United States  Fort Lauderdale     Florida   \n",
       "\n",
       "   Postal Code Region       Product ID         Category Sub-Category  \\\n",
       "0      42420.0  South  FUR-BO-10001798        Furniture    Bookcases   \n",
       "1      42420.0  South  FUR-CH-10000454        Furniture       Chairs   \n",
       "2      90036.0   West  OFF-LA-10000240  Office Supplies       Labels   \n",
       "3      33311.0  South  FUR-TA-10000577        Furniture       Tables   \n",
       "4      33311.0  South  OFF-ST-10000760  Office Supplies      Storage   \n",
       "\n",
       "                                        Product Name     Sales  \n",
       "0                  Bush Somerset Collection Bookcase  261.9600  \n",
       "1  Hon Deluxe Fabric Upholstered Stacking Chairs,...  731.9400  \n",
       "2  Self-Adhesive Address Labels for Typewriters b...   14.6200  \n",
       "3      Bretford CR4500 Series Slim Rectangular Table  957.5775  \n",
       "4                     Eldon Fold 'N Roll Cart System   22.3680  "
      ]
     },
     "execution_count": 2,
     "metadata": {},
     "output_type": "execute_result"
    }
   ],
   "source": [
    "df = pd.read_csv(\"train.csv\")\n",
    "df.head()"
   ]
  },
  {
   "cell_type": "markdown",
   "metadata": {},
   "source": [
    "Extra "
   ]
  },
  {
   "cell_type": "code",
   "execution_count": 3,
   "metadata": {},
   "outputs": [],
   "source": [
    "# set option to be maximum for Rows and columns\n",
    "\n",
    "pd.set_option ('display.max_columns', None)\n",
    "pd.set_option ('display.max_rows', None)\n",
    "\n",
    "# hide all warnings\n",
    "import warnings\n",
    "warnings.filterwarnings('ignore')"
   ]
  },
  {
   "cell_type": "markdown",
   "metadata": {},
   "source": [
    "### 1.3 Checking Data info, shape, columns"
   ]
  },
  {
   "cell_type": "code",
   "execution_count": 7,
   "metadata": {},
   "outputs": [
    {
     "name": "stdout",
     "output_type": "stream",
     "text": [
      "<class 'pandas.core.frame.DataFrame'>\n",
      "RangeIndex: 9800 entries, 0 to 9799\n",
      "Data columns (total 18 columns):\n",
      " #   Column         Non-Null Count  Dtype  \n",
      "---  ------         --------------  -----  \n",
      " 0   Row ID         9800 non-null   int64  \n",
      " 1   Order ID       9800 non-null   object \n",
      " 2   Order Date     9800 non-null   object \n",
      " 3   Ship Date      9800 non-null   object \n",
      " 4   Ship Mode      9800 non-null   object \n",
      " 5   Customer ID    9800 non-null   object \n",
      " 6   Customer Name  9800 non-null   object \n",
      " 7   Segment        9800 non-null   object \n",
      " 8   Country        9800 non-null   object \n",
      " 9   City           9800 non-null   object \n",
      " 10  State          9800 non-null   object \n",
      " 11  Postal Code    9789 non-null   float64\n",
      " 12  Region         9800 non-null   object \n",
      " 13  Product ID     9800 non-null   object \n",
      " 14  Category       9800 non-null   object \n",
      " 15  Sub-Category   9800 non-null   object \n",
      " 16  Product Name   9800 non-null   object \n",
      " 17  Sales          9800 non-null   float64\n",
      "dtypes: float64(2), int64(1), object(15)\n",
      "memory usage: 1.3+ MB\n"
     ]
    }
   ],
   "source": [
    "df.info()"
   ]
  },
  {
   "cell_type": "code",
   "execution_count": 8,
   "metadata": {},
   "outputs": [
    {
     "data": {
      "text/plain": [
       "(9800, 18)"
      ]
     },
     "execution_count": 8,
     "metadata": {},
     "output_type": "execute_result"
    }
   ],
   "source": [
    "df.shape"
   ]
  },
  {
   "cell_type": "code",
   "execution_count": 9,
   "metadata": {},
   "outputs": [
    {
     "data": {
      "text/plain": [
       "Index(['Row ID', 'Order ID', 'Order Date', 'Ship Date', 'Ship Mode',\n",
       "       'Customer ID', 'Customer Name', 'Segment', 'Country', 'City', 'State',\n",
       "       'Postal Code', 'Region', 'Product ID', 'Category', 'Sub-Category',\n",
       "       'Product Name', 'Sales'],\n",
       "      dtype='object')"
      ]
     },
     "execution_count": 9,
     "metadata": {},
     "output_type": "execute_result"
    }
   ],
   "source": [
    "df.columns"
   ]
  },
  {
   "cell_type": "markdown",
   "metadata": {},
   "source": [
    "#### Dataset Overview \n",
    "The dataset contains 9,800 rows and 18 columns, covering customer orders, sales, shipping details, and product categories etc\n",
    "\n",
    "###### Key Observations:\n",
    "\n",
    "Date Columns (Order Date & Ship Date) are stored as text (object) and need conversion to datetime format.\n",
    "\n",
    "Sales Column (Sales) is in float format and ready for analysis.\n",
    "\n",
    "Postal Code has some missing values (only 9,789 non-null out of 9,800).\n",
    "\n",
    "Multiple categorical columns (Customer Name, Segment, Category, etc.) useful for analysis.\n",
    "\n"
   ]
  },
  {
   "cell_type": "markdown",
   "metadata": {},
   "source": [
    "## step.2 Data Cleaning & Preprocessing:"
   ]
  },
  {
   "cell_type": "markdown",
   "metadata": {},
   "source": [
    "\n",
    "\n",
    "Convert date columns to proper datetime format.\n",
    "\n",
    "Handle missing values in Postal Code.\n",
    "\n",
    "Remove duplicates (if any)."
   ]
  },
  {
   "cell_type": "markdown",
   "metadata": {},
   "source": [
    "We'll start by fixing date formats, handling missing values, and removing duplicates.\n",
    "\n",
    "### 2.1 Convert Date Columns to Datetime Format\n",
    " The Order Date and Ship Date columns are in text format. We need to convert them to datetime format.\n"
   ]
  },
  {
   "cell_type": "code",
   "execution_count": 12,
   "metadata": {},
   "outputs": [],
   "source": [
    "import pandas as pd\n",
    "\n",
    "# Convert 'Order Date' and 'Ship Date' to datetime\n",
    "df['Order Date'] = pd.to_datetime(df['Order Date'], errors='coerce')\n",
    "df['Ship Date'] = pd.to_datetime(df['Ship Date'], errors='coerce')\n"
   ]
  },
  {
   "cell_type": "code",
   "execution_count": 13,
   "metadata": {},
   "outputs": [
    {
     "name": "stdout",
     "output_type": "stream",
     "text": [
      "Order Date    datetime64[ns]\n",
      "Ship Date     datetime64[ns]\n",
      "dtype: object\n"
     ]
    }
   ],
   "source": [
    "# Verify the changes\n",
    "print(df[['Order Date', 'Ship Date']].dtypes)\n"
   ]
  },
  {
   "cell_type": "markdown",
   "metadata": {},
   "source": [
    "### 2.2 Handling Missing Values\n",
    "####  Handle Missing Values in Postal Code\n",
    "\n",
    " The Postal Code column has some missing values. We have two options:\n",
    "\n",
    "1. Drop rows with missing values (if it's a small portion of data).\n",
    "\n",
    "2. Fill missing values with a default value (e.g., 00000)."
   ]
  },
  {
   "cell_type": "code",
   "execution_count": 15,
   "metadata": {},
   "outputs": [
    {
     "data": {
      "text/plain": [
       "Row ID              0\n",
       "Order ID            0\n",
       "Order Date       5841\n",
       "Ship Date        5985\n",
       "Ship Mode           0\n",
       "Customer ID         0\n",
       "Customer Name       0\n",
       "Segment             0\n",
       "Country             0\n",
       "City                0\n",
       "State               0\n",
       "Postal Code        11\n",
       "Region              0\n",
       "Product ID          0\n",
       "Category            0\n",
       "Sub-Category        0\n",
       "Product Name        0\n",
       "Sales               0\n",
       "dtype: int64"
      ]
     },
     "execution_count": 15,
     "metadata": {},
     "output_type": "execute_result"
    }
   ],
   "source": [
    "# checking the Missing Values First\n",
    "df.isnull().sum()"
   ]
  },
  {
   "cell_type": "markdown",
   "metadata": {},
   "source": [
    "#### Our Data has missing values in three columns:\n",
    "\n",
    "Order Date (5,841 missing)\n",
    "\n",
    "Ship Date (5,985 missing)\n",
    "\n",
    "Postal Code (11 missing)\n",
    "\n",
    "### Handling Missing Values\n",
    "2.2.1. Order Date & Ship Date (Missing a lot of values!)\n",
    "\n",
    "Since more than half of the values are missing in Order Date and Ship Date, "
   ]
  },
  {
   "cell_type": "code",
   "execution_count": 22,
   "metadata": {},
   "outputs": [],
   "source": [
    "df['Order Date'].fillna(method='ffill', inplace=True)\n",
    "df['Ship Date'].fillna(method='ffill', inplace=True)\n"
   ]
  },
  {
   "cell_type": "markdown",
   "metadata": {},
   "source": [
    "2.2.2 Postal Code (Only 11 Missing) "
   ]
  },
  {
   "cell_type": "code",
   "execution_count": 24,
   "metadata": {},
   "outputs": [],
   "source": [
    "# Fill missing Postal Codes with a default value\n",
    "df['Postal Code'].fillna(0, inplace=True)  # Replace with '0' (or any default value)"
   ]
  },
  {
   "cell_type": "code",
   "execution_count": 25,
   "metadata": {},
   "outputs": [
    {
     "name": "stdout",
     "output_type": "stream",
     "text": [
      "Row ID           0\n",
      "Order ID         0\n",
      "Order Date       0\n",
      "Ship Date        0\n",
      "Ship Mode        0\n",
      "Customer ID      0\n",
      "Customer Name    0\n",
      "Segment          0\n",
      "Country          0\n",
      "City             0\n",
      "State            0\n",
      "Postal Code      0\n",
      "Region           0\n",
      "Product ID       0\n",
      "Category         0\n",
      "Sub-Category     0\n",
      "Product Name     0\n",
      "Sales            0\n",
      "dtype: int64\n"
     ]
    }
   ],
   "source": [
    "# Verify if there are still missing values\n",
    "print(df.isnull().sum())\n"
   ]
  },
  {
   "cell_type": "markdown",
   "metadata": {},
   "source": [
    "### 2.3 Remove Duplicate Rows\n",
    " Duplicate rows can cause incorrect analysis. We need to check and remove them.\n"
   ]
  },
  {
   "cell_type": "code",
   "execution_count": 31,
   "metadata": {},
   "outputs": [
    {
     "data": {
      "text/plain": [
       "np.int64(0)"
      ]
     },
     "execution_count": 31,
     "metadata": {},
     "output_type": "execute_result"
    }
   ],
   "source": [
    "# checking for duplicate values\n",
    "df.duplicated().sum()"
   ]
  },
  {
   "cell_type": "code",
   "execution_count": null,
   "metadata": {},
   "outputs": [],
   "source": [
    "# Remove duplicate rows\n",
    "df.drop_duplicates(inplace=True)"
   ]
  },
  {
   "cell_type": "code",
   "execution_count": 33,
   "metadata": {},
   "outputs": [
    {
     "name": "stdout",
     "output_type": "stream",
     "text": [
      "Total duplicates after removal: 0\n"
     ]
    }
   ],
   "source": [
    "# Verify if duplicates are removed\n",
    "print(f\"Total duplicates after removal: {df.duplicated().sum()}\")\n"
   ]
  },
  {
   "cell_type": "markdown",
   "metadata": {},
   "source": [
    "#### Now our data is cleaned, let’s move to Step 3: Exploratory Data Analysis (EDA) to extract insights.\n",
    "\n"
   ]
  },
  {
   "cell_type": "markdown",
   "metadata": {},
   "source": [
    "## Step.3 Exploratory Data Analysis (EDA)\n",
    "We'll analyze:\n",
    "\n",
    " Total Sales & Profit\n",
    "\n",
    " Top-Selling Products\n",
    "\n",
    " Top Customers by Spending\n",
    "\n",
    " Sales Trends Over Time"
   ]
  },
  {
   "cell_type": "markdown",
   "metadata": {},
   "source": [
    "#### 3.1: Total Sales Overview\n",
    "Let's calculate the total revenue and average order value."
   ]
  },
  {
   "cell_type": "code",
   "execution_count": 36,
   "metadata": {},
   "outputs": [
    {
     "name": "stdout",
     "output_type": "stream",
     "text": [
      "Total Sales: $2,261,536.78\n",
      "Average Order Value: $230.77\n"
     ]
    }
   ],
   "source": [
    "# Total Revenue and Profit\n",
    "total_sales = df['Sales'].sum()\n",
    "#total_profit = df['Profit'].sum()\n",
    "average_order_value = df['Sales'].mean()\n",
    "\n",
    "print(f\"Total Sales: ${total_sales:,.2f}\")\n",
    "#print(f\"Total Profit: ${total_profit:,.2f}\")\n",
    "print(f\"Average Order Value: ${average_order_value:,.2f}\")\n"
   ]
  },
  {
   "cell_type": "markdown",
   "metadata": {},
   "source": [
    "#### 3.2: Top 10 Best-Selling Products\n",
    "We’ll group data by Product Name and sum the Sales."
   ]
  },
  {
   "cell_type": "code",
   "execution_count": 37,
   "metadata": {},
   "outputs": [
    {
     "name": "stdout",
     "output_type": "stream",
     "text": [
      "Product Name\n",
      "Canon imageCLASS 2200 Advanced Copier                                          61599.824\n",
      "Fellowes PB500 Electric Punch Plastic Comb Binding Machine with Manual Bind    27453.384\n",
      "Cisco TelePresence System EX90 Videoconferencing Unit                          22638.480\n",
      "HON 5400 Series Task Chairs for Big and Tall                                   21870.576\n",
      "GBC DocuBind TL300 Electric Binding System                                     19823.479\n",
      "GBC Ibimaster 500 Manual ProClick Binding System                               19024.500\n",
      "Hewlett Packard LaserJet 3310 Copier                                           18839.686\n",
      "HP Designjet T520 Inkjet Large Format Printer - 24\" Color                      18374.895\n",
      "GBC DocuBind P400 Electric Binding System                                      17965.068\n",
      "High Speed Automatic Electric Letter Opener                                    17030.312\n",
      "Name: Sales, dtype: float64\n"
     ]
    }
   ],
   "source": [
    "# Top 10 best-selling products\n",
    "top_products = df.groupby('Product Name')['Sales'].sum().sort_values(ascending=False).head(10)\n",
    "\n",
    "# Display results\n",
    "print(top_products)\n"
   ]
  },
  {
   "cell_type": "markdown",
   "metadata": {},
   "source": [
    "#### 3.3: Top 10 Customers by Spending\n",
    "Let's identify the most valuable customers."
   ]
  },
  {
   "cell_type": "code",
   "execution_count": 38,
   "metadata": {},
   "outputs": [
    {
     "name": "stdout",
     "output_type": "stream",
     "text": [
      "Customer Name\n",
      "Sean Miller           25043.050\n",
      "Tamara Chand          19052.218\n",
      "Raymond Buch          15117.339\n",
      "Tom Ashbrook          14595.620\n",
      "Adrian Barton         14473.571\n",
      "Ken Lonsdale          14175.229\n",
      "Sanjit Chand          14142.334\n",
      "Hunter Lopez          12873.298\n",
      "Sanjit Engle          12209.438\n",
      "Christopher Conant    12129.072\n",
      "Name: Sales, dtype: float64\n"
     ]
    }
   ],
   "source": [
    "# Top 10 customers by total spending\n",
    "top_customers = df.groupby('Customer Name')['Sales'].sum().sort_values(ascending=False).head(10)\n",
    "\n",
    "# Display results\n",
    "print(top_customers)\n"
   ]
  },
  {
   "cell_type": "markdown",
   "metadata": {},
   "source": [
    "#### 3.4: Sales Trends Over Time\n",
    "We’ll analyze monthly sales trends using visualization."
   ]
  },
  {
   "cell_type": "code",
   "execution_count": 39,
   "metadata": {},
   "outputs": [
    {
     "data": {
      "image/png": "[encoded data removed]",
      "text/plain": [
       "<Figure size 1200x500 with 1 Axes>"
      ]
     },
     "metadata": {},
     "output_type": "display_data"
    }
   ],
   "source": [
    "import matplotlib.pyplot as plt\n",
    "\n",
    "# Extract year-month for trend analysis\n",
    "df['Year-Month'] = df['Order Date'].dt.to_period('M')\n",
    "\n",
    "# Group by year-month and sum sales\n",
    "monthly_sales = df.groupby('Year-Month')['Sales'].sum()\n",
    "\n",
    "# Plot sales trend\n",
    "plt.figure(figsize=(12, 5))\n",
    "monthly_sales.plot(kind='line', marker='o', color='b')\n",
    "plt.title('Monthly Sales Trend')\n",
    "plt.xlabel('Year-Month')\n",
    "plt.ylabel('Total Sales')\n",
    "plt.grid(True)\n",
    "plt.show()\n"
   ]
  },
  {
   "cell_type": "markdown",
   "metadata": {},
   "source": [
    "#### 3.5: Statistical Analysis on our data"
   ]
  },
  {
   "cell_type": "code",
   "execution_count": 54,
   "metadata": {},
   "outputs": [
    {
     "data": {
      "application/vnd.microsoft.datawrangler.viewer.v0+json": {
       "columns": [
        {
         "name": "index",
         "rawType": "object",
         "type": "string"
        },
        {
         "name": "Row ID",
         "rawType": "float64",
         "type": "float"
        },
        {
         "name": "Order Date",
         "rawType": "object",
         "type": "unknown"
        },
        {
         "name": "Ship Date",
         "rawType": "object",
         "type": "unknown"
        },
        {
         "name": "Postal Code",
         "rawType": "float64",
         "type": "float"
        },
        {
         "name": "Sales",
         "rawType": "float64",
         "type": "float"
        },
        {
         "name": "Year-Month",
         "rawType": "object",
         "type": "unknown"
        }
       ],
       "conversionMethod": "pd.DataFrame",
       "ref": "809863b4-7a96-4afb-a20a-fa6bfe9a2690",
       "rows": [
        [
         "count",
         "9800.0",
         "9800",
         "9800",
         "9800.0",
         "9800.0",
         "9800"
        ],
        [
         "mean",
         "4900.5",
         "2017-03-28 04:16:42.122449152",
         "2017-04-08 21:46:08.326530816",
         "55211.280918367345",
         "230.7690594591837",
         "2017-03-21 05:08:51.918367488"
        ],
        [
         "min",
         "1.0",
         "2015-01-02 00:00:00",
         "2015-01-04 00:00:00",
         "0.0",
         "0.444",
         "2015-01-01 00:00:00"
        ],
        [
         "25%",
         "2450.75",
         "2016-04-10 00:00:00",
         "2016-04-11 00:00:00",
         "23223.0",
         "17.248",
         "2016-04-01 00:00:00"
        ],
        [
         "50%",
         "4900.5",
         "2017-05-12 00:00:00",
         "2017-06-11 00:00:00",
         "57551.0",
         "54.489999999999995",
         "2017-05-01 00:00:00"
        ],
        [
         "75%",
         "7350.25",
         "2018-03-08 00:00:00",
         "2018-04-11 06:00:00",
         "90008.0",
         "210.60500000000002",
         "2018-03-01 00:00:00"
        ],
        [
         "max",
         "9800.0",
         "2018-12-11 00:00:00",
         "2019-05-01 00:00:00",
         "99301.0",
         "22638.48",
         "2018-12-01 00:00:00"
        ],
        [
         "std",
         "2829.1606529145706",
         null,
         null,
         "32076.677953899507",
         "626.6518748388042",
         null
        ]
       ],
       "shape": {
        "columns": 6,
        "rows": 8
       }
      },
      "text/html": [
       "<div>\n",
       "<style scoped>\n",
       "    .dataframe tbody tr th:only-of-type {\n",
       "        vertical-align: middle;\n",
       "    }\n",
       "\n",
       "    .dataframe tbody tr th {\n",
       "        vertical-align: top;\n",
       "    }\n",
       "\n",
       "    .dataframe thead th {\n",
       "        text-align: right;\n",
       "    }\n",
       "</style>\n",
       "<table border=\"1\" class=\"dataframe\">\n",
       "  <thead>\n",
       "    <tr style=\"text-align: right;\">\n",
       "      <th></th>\n",
       "      <th>Row ID</th>\n",
       "      <th>Order Date</th>\n",
       "      <th>Ship Date</th>\n",
       "      <th>Postal Code</th>\n",
       "      <th>Sales</th>\n",
       "      <th>Year-Month</th>\n",
       "    </tr>\n",
       "  </thead>\n",
       "  <tbody>\n",
       "    <tr>\n",
       "      <th>count</th>\n",
       "      <td>9800.000000</td>\n",
       "      <td>9800</td>\n",
       "      <td>9800</td>\n",
       "      <td>9800.000000</td>\n",
       "      <td>9800.000000</td>\n",
       "      <td>9800</td>\n",
       "    </tr>\n",
       "    <tr>\n",
       "      <th>mean</th>\n",
       "      <td>4900.500000</td>\n",
       "      <td>2017-03-28 04:16:42.122449152</td>\n",
       "      <td>2017-04-08 21:46:08.326530816</td>\n",
       "      <td>55211.280918</td>\n",
       "      <td>230.769059</td>\n",
       "      <td>2017-03-21 05:08:51.918367488</td>\n",
       "    </tr>\n",
       "    <tr>\n",
       "      <th>min</th>\n",
       "      <td>1.000000</td>\n",
       "      <td>2015-01-02 00:00:00</td>\n",
       "      <td>2015-01-04 00:00:00</td>\n",
       "      <td>0.000000</td>\n",
       "      <td>0.444000</td>\n",
       "      <td>2015-01-01 00:00:00</td>\n",
       "    </tr>\n",
       "    <tr>\n",
       "      <th>25%</th>\n",
       "      <td>2450.750000</td>\n",
       "      <td>2016-04-10 00:00:00</td>\n",
       "      <td>2016-04-11 00:00:00</td>\n",
       "      <td>23223.000000</td>\n",
       "      <td>17.248000</td>\n",
       "      <td>2016-04-01 00:00:00</td>\n",
       "    </tr>\n",
       "    <tr>\n",
       "      <th>50%</th>\n",
       "      <td>4900.500000</td>\n",
       "      <td>2017-05-12 00:00:00</td>\n",
       "      <td>2017-06-11 00:00:00</td>\n",
       "      <td>57551.000000</td>\n",
       "      <td>54.490000</td>\n",
       "      <td>2017-05-01 00:00:00</td>\n",
       "    </tr>\n",
       "    <tr>\n",
       "      <th>75%</th>\n",
       "      <td>7350.250000</td>\n",
       "      <td>2018-03-08 00:00:00</td>\n",
       "      <td>2018-04-11 06:00:00</td>\n",
       "      <td>90008.000000</td>\n",
       "      <td>210.605000</td>\n",
       "      <td>2018-03-01 00:00:00</td>\n",
       "    </tr>\n",
       "    <tr>\n",
       "      <th>max</th>\n",
       "      <td>9800.000000</td>\n",
       "      <td>2018-12-11 00:00:00</td>\n",
       "      <td>2019-05-01 00:00:00</td>\n",
       "      <td>99301.000000</td>\n",
       "      <td>22638.480000</td>\n",
       "      <td>2018-12-01 00:00:00</td>\n",
       "    </tr>\n",
       "    <tr>\n",
       "      <th>std</th>\n",
       "      <td>2829.160653</td>\n",
       "      <td>NaN</td>\n",
       "      <td>NaN</td>\n",
       "      <td>32076.677954</td>\n",
       "      <td>626.651875</td>\n",
       "      <td>NaN</td>\n",
       "    </tr>\n",
       "  </tbody>\n",
       "</table>\n",
       "</div>"
      ],
      "text/plain": [
       "            Row ID                     Order Date  \\\n",
       "count  9800.000000                           9800   \n",
       "mean   4900.500000  2017-03-28 04:16:42.122449152   \n",
       "min       1.000000            2015-01-02 00:00:00   \n",
       "25%    2450.750000            2016-04-10 00:00:00   \n",
       "50%    4900.500000            2017-05-12 00:00:00   \n",
       "75%    7350.250000            2018-03-08 00:00:00   \n",
       "max    9800.000000            2018-12-11 00:00:00   \n",
       "std    2829.160653                            NaN   \n",
       "\n",
       "                           Ship Date   Postal Code         Sales  \\\n",
       "count                           9800   9800.000000   9800.000000   \n",
       "mean   2017-04-08 21:46:08.326530816  55211.280918    230.769059   \n",
       "min              2015-01-04 00:00:00      0.000000      0.444000   \n",
       "25%              2016-04-11 00:00:00  23223.000000     17.248000   \n",
       "50%              2017-06-11 00:00:00  57551.000000     54.490000   \n",
       "75%              2018-04-11 06:00:00  90008.000000    210.605000   \n",
       "max              2019-05-01 00:00:00  99301.000000  22638.480000   \n",
       "std                              NaN  32076.677954    626.651875   \n",
       "\n",
       "                          Year-Month  \n",
       "count                           9800  \n",
       "mean   2017-03-21 05:08:51.918367488  \n",
       "min              2015-01-01 00:00:00  \n",
       "25%              2016-04-01 00:00:00  \n",
       "50%              2017-05-01 00:00:00  \n",
       "75%              2018-03-01 00:00:00  \n",
       "max              2018-12-01 00:00:00  \n",
       "std                              NaN  "
      ]
     },
     "execution_count": 54,
     "metadata": {},
     "output_type": "execute_result"
    }
   ],
   "source": [
    "df.describe()"
   ]
  },
  {
   "cell_type": "markdown",
   "metadata": {},
   "source": [
    "Now we've done basic EDA, let's move to Step 4: Advanced Analysis & SQL Queries to deepen our understanding of the data."
   ]
  },
  {
   "cell_type": "markdown",
   "metadata": {},
   "source": [
    "## Step.4: Advanced Analysis & SQL Queries\n",
    "We'll now focus on SQL-based data analysis by running queries on the dataset using SQLite in Python.\n",
    "\n",
    "#### 4.1: Load Data into SQL Database\n",
    "Before running queries, we need to store the dataset in an SQL database."
   ]
  },
  {
   "cell_type": "code",
   "execution_count": 46,
   "metadata": {},
   "outputs": [
    {
     "name": "stdout",
     "output_type": "stream",
     "text": [
      "Data successfully loaded into SQL database!\n"
     ]
    }
   ],
   "source": [
    "import sqlite3\n",
    "\n",
    "# Create an SQLite database (stored in memory)\n",
    "conn = sqlite3.connect(\":memory:\")\n",
    "cursor = conn.cursor()\n",
    "\n",
    "# Load DataFrame into SQL\n",
    "df.to_sql(\"superstore\", conn, index=False, if_exists=\"replace\")\n",
    "\n",
    "print(\"Data successfully loaded into SQL database!\")\n"
   ]
  },
  {
   "cell_type": "markdown",
   "metadata": {},
   "source": [
    "#### 4.2: SQL Query - Total Sales by Category\n",
    "We will group data by Category to find the total sales for each.\n"
   ]
  },
  {
   "cell_type": "code",
   "execution_count": 48,
   "metadata": {},
   "outputs": [
    {
     "name": "stdout",
     "output_type": "stream",
     "text": [
      "          Category  Total_Sales\n",
      "0       Technology  827455.8730\n",
      "1        Furniture  728658.5757\n",
      "2  Office Supplies  705422.3340\n"
     ]
    }
   ],
   "source": [
    "query = \"\"\"\n",
    "SELECT Category, SUM(Sales) AS Total_Sales\n",
    "FROM superstore\n",
    "GROUP BY Category\n",
    "ORDER BY Total_Sales DESC;\n",
    "\"\"\"\n",
    "\n",
    "# Run the query\n",
    "category_sales = pd.read_sql(query, conn)\n",
    "\n",
    "# Display results\n",
    "print(category_sales)\n"
   ]
  },
  {
   "cell_type": "markdown",
   "metadata": {},
   "source": [
    "#### 4.3: SQL Query - Top 5 Customers by Total Spending\n",
    "We will find the top 5 customers who spent the most."
   ]
  },
  {
   "cell_type": "code",
   "execution_count": 49,
   "metadata": {},
   "outputs": [
    {
     "name": "stdout",
     "output_type": "stream",
     "text": [
      "   Customer Name  Total_Spending\n",
      "0    Sean Miller       25043.050\n",
      "1   Tamara Chand       19052.218\n",
      "2   Raymond Buch       15117.339\n",
      "3   Tom Ashbrook       14595.620\n",
      "4  Adrian Barton       14473.571\n"
     ]
    }
   ],
   "source": [
    "query = \"\"\"\n",
    "SELECT [Customer Name], SUM(Sales) AS Total_Spending\n",
    "FROM superstore\n",
    "GROUP BY [Customer Name]\n",
    "ORDER BY Total_Spending DESC\n",
    "LIMIT 5;\n",
    "\"\"\"\n",
    "\n",
    "# Run the query\n",
    "top_customers = pd.read_sql(query, conn)\n",
    "\n",
    "# Display results\n",
    "print(top_customers)\n"
   ]
  },
  {
   "cell_type": "markdown",
   "metadata": {},
   "source": [
    "#### 4.4: SQL Query - Monthly Sales Trend\n",
    "We will analyze monthly sales trends using SQL."
   ]
  },
  {
   "cell_type": "code",
   "execution_count": 50,
   "metadata": {},
   "outputs": [
    {
     "name": "stdout",
     "output_type": "stream",
     "text": [
      "      Month  Total_Sales\n",
      "0   2015-01   30826.3833\n",
      "1   2015-02   41241.4150\n",
      "2   2015-03   36038.2990\n",
      "3   2015-04   28108.8650\n",
      "4   2015-05   38275.5850\n",
      "5   2015-06   28952.8870\n",
      "6   2015-07   26852.5695\n",
      "7   2015-08   68290.7045\n",
      "8   2015-09   32535.5670\n",
      "9   2015-10   25402.8020\n",
      "10  2015-11   40900.0882\n",
      "11  2015-12   35693.8925\n",
      "12  2016-01   38127.6284\n",
      "13  2016-02   37021.0660\n",
      "14  2016-03   31297.1706\n",
      "15  2016-04   29812.6950\n",
      "16  2016-05   22707.3320\n",
      "17  2016-06   37115.5232\n",
      "18  2016-07   40896.7910\n",
      "19  2016-08   54148.7485\n",
      "20  2016-09   47885.7128\n",
      "21  2016-10   33973.4930\n",
      "22  2016-11   28518.2735\n",
      "23  2016-12   23207.1650\n",
      "24  2017-01   70867.6550\n",
      "25  2017-02   69093.0110\n",
      "26  2017-03   48319.5626\n",
      "27  2017-04   34239.7780\n",
      "28  2017-05   71878.7216\n",
      "29  2017-06   30737.0854\n",
      "30  2017-07   62212.1100\n",
      "31  2017-08   80148.3728\n",
      "32  2017-09   59644.7380\n",
      "33  2017-10   73195.1444\n",
      "34  2017-11   38835.1740\n",
      "35  2017-12   42435.6345\n",
      "36  2018-01   69915.8268\n",
      "37  2018-02   92157.1270\n",
      "38  2018-03   63780.3623\n",
      "39  2018-04   63010.3812\n",
      "40  2018-05   47538.2970\n",
      "41  2018-06   41568.8883\n",
      "42  2018-07   40043.1045\n",
      "43  2018-08   72540.5045\n",
      "44  2018-09   54978.3460\n",
      "45  2018-10   47842.3866\n",
      "46  2018-11   64869.7200\n",
      "47  2018-12   63854.1942\n"
     ]
    }
   ],
   "source": [
    "query = \"\"\"\n",
    "SELECT strftime('%Y-%m', [Order Date]) AS Month, SUM(Sales) AS Total_Sales\n",
    "FROM superstore\n",
    "GROUP BY Month\n",
    "ORDER BY Month;\n",
    "\"\"\"\n",
    "\n",
    "# Run the query\n",
    "monthly_sales = pd.read_sql(query, conn)\n",
    "\n",
    "# Display results\n",
    "print(monthly_sales)\n"
   ]
  },
  {
   "cell_type": "markdown",
   "metadata": {},
   "source": [
    "Now we’ll move to Step 5: Data Visualization & Dashboard Creation. "
   ]
  },
  {
   "cell_type": "markdown",
   "metadata": {},
   "source": [
    "##### Now we've extracted meaningful insights using SQL, let's move to Step 4: Data Visualization & Dashboard Creation to make our findings more interactive and visually appealing.\n",
    "\n"
   ]
  },
  {
   "cell_type": "markdown",
   "metadata": {},
   "source": [
    "## Step.5: Data Visualization & Dashboard Creation\n",
    "We'll use Matplotlib, Seaborn, and Plotly to create insightful visualizations.\n",
    "\n",
    "#### 5.1: Sales by Category (Bar Chart)\n",
    "We'll plot total sales by category using a bar chart.\n"
   ]
  },
  {
   "cell_type": "code",
   "execution_count": 51,
   "metadata": {},
   "outputs": [
    {
     "data": {
      "image/png": "[encoded data removed]",
      "text/plain": [
       "<Figure size 800x500 with 1 Axes>"
      ]
     },
     "metadata": {},
     "output_type": "display_data"
    }
   ],
   "source": [
    "#import seaborn as sns\n",
    "#import matplotlib.pyplot as plt\n",
    "\n",
    "# Plot Sales by Category\n",
    "plt.figure(figsize=(8,5))\n",
    "sns.barplot(x=category_sales[\"Category\"], y=category_sales[\"Total_Sales\"], palette=\"viridis\")\n",
    "plt.title(\"Total Sales by Category\")\n",
    "plt.xlabel(\"Category\")\n",
    "plt.ylabel(\"Total Sales\")\n",
    "plt.xticks(rotation=45)\n",
    "plt.show()\n"
   ]
  },
  {
   "cell_type": "markdown",
   "metadata": {},
   "source": [
    "#### 5.2: Top Customers (Pie Chart)\n",
    "We'll plot a pie chart for the top 5 customers by total spending"
   ]
  },
  {
   "cell_type": "code",
   "execution_count": 52,
   "metadata": {},
   "outputs": [
    {
     "data": {
      "image/png": "[encoded data removed]",
      "text/plain": [
       "<Figure size 800x800 with 1 Axes>"
      ]
     },
     "metadata": {},
     "output_type": "display_data"
    }
   ],
   "source": [
    "# Pie Chart for Top Customers\n",
    "plt.figure(figsize=(8, 8))\n",
    "plt.pie(top_customers[\"Total_Spending\"], labels=top_customers[\"Customer Name\"], autopct='%1.1f%%', colors=sns.color_palette(\"coolwarm\", 5))\n",
    "plt.title(\"Top 5 Customers by Total Spending\")\n",
    "plt.show()\n"
   ]
  },
  {
   "cell_type": "markdown",
   "metadata": {},
   "source": [
    "#### 5.3:Monthly Sales Trend (Line Chart)\n",
    "We'll visualize monthly sales trends using a line chart"
   ]
  },
  {
   "cell_type": "code",
   "execution_count": 53,
   "metadata": {},
   "outputs": [
    {
     "data": {
      "image/png": "[encoded data removed]",
      "text/plain": [
       "<Figure size 1200x500 with 1 Axes>"
      ]
     },
     "metadata": {},
     "output_type": "display_data"
    }
   ],
   "source": [
    "# Convert Month column to datetime\n",
    "monthly_sales[\"Month\"] = pd.to_datetime(monthly_sales[\"Month\"])\n",
    "\n",
    "# Line Chart\n",
    "plt.figure(figsize=(12, 5))\n",
    "sns.lineplot(x=monthly_sales[\"Month\"], y=monthly_sales[\"Total_Sales\"], marker='o', color='b')\n",
    "plt.title(\"Monthly Sales Trend\")\n",
    "plt.xlabel(\"Month\")\n",
    "plt.ylabel(\"Total Sales\")\n",
    "plt.grid(True)\n",
    "plt.show()\n"
   ]
  }
 ],
 "metadata": {
  "kernelspec": {
   "display_name": "Python 3",
   "language": "python",
   "name": "python3"
  },
  "language_info": {
   "codemirror_mode": {
    "name": "ipython",
    "version": 3
   },
   "file_extension": ".py",
   "mimetype": "text/x-python",
   "name": "python",
   "nbconvert_exporter": "python",
   "pygments_lexer": "ipython3",
   "version": "3.12.6"
  }
 },
 "nbformat": 4,
 "nbformat_minor": 2
}
